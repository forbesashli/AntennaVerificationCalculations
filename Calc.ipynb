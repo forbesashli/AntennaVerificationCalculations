{
 "cells": [
  {
   "cell_type": "markdown",
   "metadata": {},
   "source": [
    "### Verification and Link Budget Calculations for Formula Electric Wireless Telemetry Project"
   ]
  },
  {
   "cell_type": "code",
   "execution_count": 54,
   "metadata": {},
   "outputs": [],
   "source": [
    "import numpy as np\n",
    "import pandas as pd\n",
    "import matplotlib.pyplot as plt"
   ]
  },
  {
   "cell_type": "code",
   "execution_count": 55,
   "metadata": {},
   "outputs": [],
   "source": [
    "# Put these in a seperate file later\n",
    "def LBGenerator(distance, frequency):\n",
    "    BudgetDict = {\n",
    "    }\n",
    "    lamb = 3e8/frequency\n",
    "    Lp = 20*np.log10(lamb) - 20*np.log10(distance) - 21.98\n",
    "    BudgetDict[\"Lp\"] = [str(Lp), \"dBi\"]\n",
    "    return BudgetDict\n",
    "\n",
    "def PowerRecCalc(BudgetDict):\n",
    "    Pr = float(BudgetDict.get(\"Pt\")[0]) + float(BudgetDict.get(\"Lp\")[0]) + float(BudgetDict.get(\"Gt\")[0]) + float(BudgetDict.get(\"Gr\")[0]) \n",
    "    BudgetDict[\"Pr\"] = [str(Pr), \"dBm\"]\n",
    "    return BudgetDict"
   ]
  },
  {
   "cell_type": "markdown",
   "metadata": {},
   "source": [
    "### 2.4GHz Option\n",
    "\n",
    "For the 2.4 GHz Calculations, we run the path loss calculations, use the given power transmit for the Synapse 2.4GHz RF 220SU Module. The values pulled from that data sheet linked (HERE)\n",
    "| Transmit Power Output | Receiver Sensitivity|\n",
    "|----------|----------|\n",
    "| + 20 dBm| -103dBm | \n"
   ]
  },
  {
   "cell_type": "code",
   "execution_count": 56,
   "metadata": {},
   "outputs": [],
   "source": [
    "LinkBudget24 = LBGenerator(500, 2.4e9)\n",
    "LinkBudget24[\"Pt\"] = [\"20\", \"dBm\"]\n",
    "LinkBudget24[\"RS\"] = [\"-103\", \"dBm\"]"
   ]
  },
  {
   "cell_type": "markdown",
   "metadata": {},
   "source": [
    "In order to accomodate for the irregular shape of the car, a half sleeve dipole will be used for the tranmitting, this has an approximate gain of 6 dBi. For now, the same will be used for the receiving antnenna."
   ]
  },
  {
   "cell_type": "code",
   "execution_count": 57,
   "metadata": {},
   "outputs": [],
   "source": [
    "LinkBudget24[\"Gt\"] = [\"6\", \"dBi\"]\n",
    "LinkBudget24[\"Gr\"] = [\"6\", \"dBi\"]"
   ]
  },
  {
   "cell_type": "markdown",
   "metadata": {},
   "source": [
    "Without cable specifications, we account for the only being the path loss at $500 m$ which is far but represents the ma on a typical test day. Then calculating the power received and if that meets the receiver sensitivty and fade margin requirements."
   ]
  },
  {
   "cell_type": "code",
   "execution_count": 58,
   "metadata": {},
   "outputs": [
    {
     "name": "stdout",
     "output_type": "stream",
     "text": [
      "                 Value Units\n",
      "Lp  -80.04179973983888   dBi\n",
      "Pt                  20   dBm\n",
      "RS                -103   dBm\n",
      "Gt                   6   dBi\n",
      "Gr                   6   dBi\n",
      "Pr  -48.04179973983888   dBm\n"
     ]
    }
   ],
   "source": [
    "LinkBudget24 = PowerRecCalc(LinkBudget24)\n",
    "df = pd.DataFrame.from_dict(LinkBudget24,orient='index',\n",
    "                       columns=['Value', 'Units'])\n",
    "print(df)"
   ]
  },
  {
   "cell_type": "markdown",
   "metadata": {},
   "source": [
    "While checking for Fade Margin of $ 20 \\; dBm$, we see that we are above the receiver sensitivity (less negative)."
   ]
  },
  {
   "cell_type": "code",
   "execution_count": 65,
   "metadata": {},
   "outputs": [
    {
     "name": "stdout",
     "output_type": "stream",
     "text": [
      "True\n"
     ]
    }
   ],
   "source": [
    "print(float(LinkBudget24.get(\"Pr\")[0]) > float(LinkBudget24.get(\"RS\")[0])  )"
   ]
  },
  {
   "cell_type": "markdown",
   "metadata": {},
   "source": [
    "So for the parameters set, without accounting for cable loss and free space, this configuration will work."
   ]
  },
  {
   "cell_type": "markdown",
   "metadata": {},
   "source": [
    "### 900MHz Option\n",
    "\n",
    "For the 2.4 GHz Calculations, we run the path loss calculations, use the given power transmit for the RFDesign RFD900x Radio Modem. The values pulled from that data sheet linked (HERE)\n",
    "| Transmit Power Output | Receiver Sensitivity| Low Noise Amplifier|\n",
    "|----------|----------| ----------|\n",
    "| + 30 dBm| >121dBm | >20dBm | \n",
    "\n",
    "Then filling out the table with values given, note we will be using the same configuration of antenna. \n"
   ]
  },
  {
   "cell_type": "code",
   "execution_count": 69,
   "metadata": {},
   "outputs": [
    {
     "name": "stdout",
     "output_type": "stream",
     "text": [
      "                 Value Units\n",
      "Lp  -97.54302500767288   dBi\n",
      "Gt                   6   dBi\n",
      "Gr                   6   dBi\n",
      "Pt                  30   dBm\n",
      "RS                -121   dBm\n",
      "Pr  -55.54302500767288   dBm\n"
     ]
    }
   ],
   "source": [
    "\n",
    "LinkBudget900 = LBGenerator(2000, 900e6)\n",
    "LinkBudget900[\"Gt\"] = [\"6\", \"dBi\"]\n",
    "LinkBudget900[\"Gr\"] = [\"6\", \"dBi\"]\n",
    "LinkBudget900[\"Pt\"] = [\"30\", \"dBm\"]\n",
    "LinkBudget900[\"RS\"] = [\"-121\", \"dBm\"]\n",
    "LinkBudget900 = PowerRecCalc(LinkBudget900)\n",
    "df = pd.DataFrame.from_dict(LinkBudget900,orient='index',\n",
    "                       columns=['Value', 'Units'])\n",
    "print(df)"
   ]
  },
  {
   "cell_type": "markdown",
   "metadata": {},
   "source": [
    "## Fresnel Zones\n",
    "\n",
    "The Fresnel Zone tells us where the maximum height object can exist without greatly disrupting the signal. In our case this will most likely be a person standing in between the car and receiving station."
   ]
  },
  {
   "cell_type": "code",
   "execution_count": 71,
   "metadata": {},
   "outputs": [
    {
     "data": {
      "image/png": "[encoded data removed]",
      "text/plain": [
       "<Figure size 640x480 with 1 Axes>"
      ]
     },
     "metadata": {},
     "output_type": "display_data"
    }
   ],
   "source": [
    "delt_d = np.linspace(1, 2000)\n",
    "lamnb = 3e8 / 900e6\n",
    "d1 = delt_d / 2\n",
    "delt_r = 0.6 * np.sqrt(lamnb * d1**2 / delt_d)\n",
    "plt.plot(delt_d, delt_r, label='900MHz')\n",
    "\n",
    "lamnb = 3e8 / 2.4e9\n",
    "delt_r = 0.6 * np.sqrt(lamnb * d1**2 / delt_d)\n",
    "plt.plot(delt_d, delt_r, label='2.4GHz')\n",
    "\n",
    "plt.legend(loc='upper left')\n",
    "plt.xlabel('distance between Rx and Tx (m)')\n",
    "plt.ylabel('r in first fresnel zone (m)')\n",
    "plt.title('Plot of Minimal Fresnel Zone')\n",
    "plt.show()"
   ]
  },
  {
   "cell_type": "markdown",
   "metadata": {},
   "source": [
    "So at the max distance for each, which is around $2000 m$. This poses an interesting issue as the lower frequency is supposed handle itself better at longer distances. According to the graph, the minimum height for receiver "
   ]
  }
 ],
 "metadata": {
  "kernelspec": {
   "display_name": "tracksight-backend",
   "language": "python",
   "name": "python3"
  },
  "language_info": {
   "codemirror_mode": {
    "name": "ipython",
    "version": 3
   },
   "file_extension": ".py",
   "mimetype": "text/x-python",
   "name": "python",
   "nbconvert_exporter": "python",
   "pygments_lexer": "ipython3",
   "version": "3.11.5"
  }
 },
 "nbformat": 4,
 "nbformat_minor": 2
}
